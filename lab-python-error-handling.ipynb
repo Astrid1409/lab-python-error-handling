{
 "cells": [
  {
   "cell_type": "markdown",
   "id": "25d7736c-ba17-4aff-b6bb-66eba20fbf4e",
   "metadata": {},
   "source": [
    "# Lab | Error Handling"
   ]
  },
  {
   "cell_type": "markdown",
   "id": "bc99b386-7508-47a0-bcdb-d969deaf6c8b",
   "metadata": {},
   "source": [
    "## Exercise: Error Handling for Managing Customer Orders\n",
    "\n",
    "The implementation of your code for managing customer orders assumes that the user will always enter a valid input. \n",
    "\n",
    "For example, we could modify the `initialize_inventory` function to include error handling.\n",
    "   - If the user enters an invalid quantity (e.g., a negative value or a non-numeric value), display an error message and ask them to re-enter the quantity for that product.\n",
    "   - Use a try-except block to handle the error and continue prompting the user until a valid quantity is entered.\n",
    "\n",
    "```python\n",
    "# Step 1: Define the function for initializing the inventory with error handling\n",
    "def initialize_inventory(products):\n",
    "    inventory = {}\n",
    "    for product in products:\n",
    "        valid_quantity = False\n",
    "        while not valid_quantity:\n",
    "            try:\n",
    "                quantity = int(input(f\"Enter the quantity of {product}s available: \"))\n",
    "                if quantity < 0:\n",
    "                    raise ValueError(\"Invalid quantity! Please enter a non-negative value.\")\n",
    "                valid_quantity = True\n",
    "            except ValueError as error:\n",
    "                print(f\"Error: {error}\")\n",
    "        inventory[product] = quantity\n",
    "    return inventory\n",
    "\n",
    "# Or, in another way:\n",
    "\n",
    "def initialize_inventory(products):\n",
    "    inventory = {}\n",
    "    for product in products:\n",
    "        valid_input = False\n",
    "        while not valid_input:\n",
    "            try:\n",
    "                quantity = int(input(f\"Enter the quantity of {product}s available: \"))\n",
    "                if quantity >= 0:\n",
    "                    inventory[product] = quantity\n",
    "                    valid_input = True\n",
    "                else:\n",
    "                    print(\"Quantity cannot be negative. Please enter a valid quantity.\")\n",
    "            except ValueError:\n",
    "                print(\"Invalid input. Please enter a valid quantity.\")\n",
    "    return inventory\n",
    "```\n",
    "\n",
    "Let's enhance your code by implementing error handling to handle invalid inputs.\n",
    "\n",
    "Follow the steps below to complete the exercise:\n",
    "\n",
    "2. Modify the `calculate_total_price` function to include error handling.\n",
    "   - If the user enters an invalid price (e.g., a negative value or a non-numeric value), display an error message and ask them to re-enter the price for that product.\n",
    "   - Use a try-except block to handle the error and continue prompting the user until a valid price is entered.\n",
    "\n",
    "3. Modify the `get_customer_orders` function to include error handling.\n",
    "   - If the user enters an invalid number of orders (e.g., a negative value or a non-numeric value), display an error message and ask them to re-enter the number of orders.\n",
    "   - If the user enters an invalid product name (e.g., a product name that is not in the inventory), or that doesn't have stock available, display an error message and ask them to re-enter the product name. *Hint: you will need to pass inventory as a parameter*\n",
    "   - Use a try-except block to handle the error and continue prompting the user until a valid product name is entered.\n",
    "\n",
    "4. Test your code by running the program and deliberately entering invalid quantities and product names. Make sure the error handling mechanism works as expected.\n"
   ]
  },
  {
   "cell_type": "code",
   "execution_count": null,
   "id": "70040070-f9b7-436c-96dd-ab6a25020376",
   "metadata": {},
   "outputs": [],
   "source": [
    "#1\n",
    "def initialize_inventory(products):\n",
    "    inventory = {}\n",
    "    for product in products:\n",
    "        valid_input = False\n",
    "        while not valid_input:\n",
    "            try:\n",
    "                quantity = int(input(f\"Enter the quantity of {product}s available: \"))\n",
    "                if quantity >= 0:\n",
    "                    inventory[product] = quantity\n",
    "                    valid_input = True\n",
    "                else:\n",
    "                    print(\"Quantity cannot be negative. Please enter a valid quantity.\")\n",
    "            except ValueError:\n",
    "                print(\"Invalid input. Please enter a valid quantity.\")\n",
    "    return inventory"
   ]
  },
  {
   "cell_type": "code",
   "execution_count": null,
   "id": "a4aac36e-a6ba-4300-b058-64fce84039a1",
   "metadata": {},
   "outputs": [],
   "source": [
    "products = [\"mug\", \"hat\", \"book\", \"keychain\", \"t-shirt\"]\n",
    "inventory = initialize_inventory(products)"
   ]
  },
  {
   "cell_type": "code",
   "execution_count": null,
   "id": "33650107-b0df-4e76-a66d-dffe64635dbb",
   "metadata": {},
   "outputs": [],
   "source": [
    "print(inventory)"
   ]
  },
  {
   "cell_type": "markdown",
   "id": "d430912b-b88d-4a68-966d-c3bca724a967",
   "metadata": {},
   "source": [
    "2.Modify the calculate_total_price function to include error handling.\n",
    "\n",
    "If the user enters an invalid price (e.g., a negative value or a non-numeric value), display an error message and ask them to re-enter the price for that product.\n",
    "Use a try-except block to handle the error and continue prompting the user until a valid price is entered.\n"
   ]
  },
  {
   "cell_type": "code",
   "execution_count": null,
   "id": "7644b229-c3eb-4b1d-8d0d-c013903e7a11",
   "metadata": {},
   "outputs": [],
   "source": [
    "def get_customer_orders():\n",
    "    num_order = int(input(\"Cuantos productos quieres ordenar\"))\n",
    "    custumer_orders = [input(\"dime que productos quieres?\") for i in range( num_order)]\n",
    "    return custumer_orders"
   ]
  },
  {
   "cell_type": "code",
   "execution_count": null,
   "id": "a75ec299-977c-4daf-90a9-c54fa6bdf613",
   "metadata": {},
   "outputs": [],
   "source": [
    "custumer_orders = get_customer_orders()"
   ]
  },
  {
   "cell_type": "code",
   "execution_count": null,
   "id": "b8137899-57ea-48c9-95a4-5b24aa6f872b",
   "metadata": {},
   "outputs": [],
   "source": [
    "type(custumer_orders)\n"
   ]
  },
  {
   "cell_type": "code",
   "execution_count": null,
   "id": "c2d89f7e-07d7-4de8-89ab-4dc8ecb9b966",
   "metadata": {},
   "outputs": [],
   "source": [
    "#2\n",
    "def total_price():\n",
    "    total = 0\n",
    "    for product in custumer_orders:\n",
    "        valid_input = False\n",
    "        while not valid_input:\n",
    "            try:\n",
    "                price = int(input(f\"Dime el precio de {product}: \")) \n",
    "                if price < 0:\n",
    "                    print (\"El precio no puede ser negativo\")\n",
    "                else:\n",
    "                    total += price \n",
    "                    valid_input = True\n",
    "                \n",
    "            except ValueError:\n",
    "               \n",
    "                    print (\"El valor introducido no es valido, recuerda poner numeros positivos\")\n",
    "                \n",
    "    return total\n",
    "            "
   ]
  },
  {
   "cell_type": "code",
   "execution_count": null,
   "id": "9a12111b-c5ad-4b1b-958e-49fc6b6a454a",
   "metadata": {},
   "outputs": [],
   "source": [
    "total = total_price()"
   ]
  },
  {
   "cell_type": "code",
   "execution_count": null,
   "id": "8f865760-5652-464a-9e53-7850657e1fc9",
   "metadata": {},
   "outputs": [],
   "source": [
    "print(total)"
   ]
  },
  {
   "cell_type": "markdown",
   "id": "f2aadc3c-d7ed-4e9f-bd57-19653cda983c",
   "metadata": {},
   "source": [
    "3.Modify the get_customer_orders function to include error handling.\n",
    "\n",
    "If the user enters an invalid number of orders (e.g., a negative value or a non-numeric value), display an error message and ask them to re-enter the number of orders.\n",
    "\n",
    "If the user enters an invalid product name (e.g., a product name that is not in the inventory), or that doesn't have stock available, display an error message and ask them to re-enter the product name. Hint: you will need to pass inventory as a parameter\n",
    "\n",
    "Use a try-except block to handle the error and continue prompting the user until a valid product name is entered."
   ]
  },
  {
   "cell_type": "code",
   "execution_count": null,
   "id": "a72481a9-9ecf-41cb-8204-52dd64ea02d1",
   "metadata": {},
   "outputs": [],
   "source": [
    "#3 Modify the get_customer_orders function to include error handling.\n",
    "def get_customer_orders(inventory):\n",
    "    \n",
    "    valid_input = False\n",
    "    while not valid_input:\n",
    "        try:\n",
    "            num_order = int(input(\"¿Cuántos productos quieres ordenar? \"))\n",
    "            if num_order > 0:\n",
    "                valid_input = True\n",
    "            else:\n",
    "                print(\"La cantidad no puede ser negativa ni cero. Por favor, introduce una cantidad válida.\")\n",
    "        except ValueError:\n",
    "            print(\"Entrada no válida. Por favor, introduce un número entero válido.\")\n",
    "\n",
    "    customer_orders = []\n",
    "    \n",
    "    for i in range(num_order):\n",
    "        valid_inputa = False  # Aquí reseteamos la bandera dentro del ciclo para cada producto.\n",
    "        while not valid_inputa:\n",
    "            try:\n",
    "                product = input(f\"Introduce el nombre del producto {i+1}: \")\n",
    "                if product in inventory and inventory[product] > 0:\n",
    "                    customer_orders.append(product)\n",
    "                    valid_inputa = True  # Si el producto es válido, salimos del ciclo interno.\n",
    "                else:\n",
    "                    print(\"No tenemos ese producto, o no hay suficiente stock. Por favor selecciona uno de nuestro inventario.\")\n",
    "            except Exception as e:  # Este bloque es por si surge algún otro error inesperado.\n",
    "                print(f\"Error: {e}. Inténtalo de nuevo.\")\n",
    "\n",
    "    return customer_orders\n",
    "\n",
    "\n",
    "\n"
   ]
  },
  {
   "cell_type": "code",
   "execution_count": null,
   "id": "d724d13b-b3f0-4687-a197-639de64a0add",
   "metadata": {},
   "outputs": [],
   "source": [
    "customer_orders = get_customer_orders(inventory)"
   ]
  },
  {
   "cell_type": "code",
   "execution_count": null,
   "id": "9f949e30-440a-42b0-a725-ca8a2713e367",
   "metadata": {},
   "outputs": [],
   "source": [
    "print(customer_orders)"
   ]
  },
  {
   "cell_type": "code",
   "execution_count": null,
   "id": "da44910c-191d-4501-b9fc-6c1afd7c95f2",
   "metadata": {},
   "outputs": [],
   "source": []
  }
 ],
 "metadata": {
  "kernelspec": {
   "display_name": "Python 3 (ipykernel)",
   "language": "python",
   "name": "python3"
  },
  "language_info": {
   "codemirror_mode": {
    "name": "ipython",
    "version": 3
   },
   "file_extension": ".py",
   "mimetype": "text/x-python",
   "name": "python",
   "nbconvert_exporter": "python",
   "pygments_lexer": "ipython3",
   "version": "3.12.4"
  }
 },
 "nbformat": 4,
 "nbformat_minor": 5
}
